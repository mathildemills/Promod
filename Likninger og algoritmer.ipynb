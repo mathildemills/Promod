{
 "cells": [
  {
   "cell_type": "markdown",
   "metadata": {},
   "source": [
    "# Likninger og algoritmer\n",
    "## Kvadratrotlogaritme"
   ]
  },
  {
   "cell_type": "code",
   "execution_count": 1,
   "metadata": {},
   "outputs": [
    {
     "name": "stdout",
     "output_type": "stream",
     "text": [
      "Hvilket tall vil du ta rota av? 12\n",
      "Hva gjeter du? 3.5\n",
      "3.4641016151377544\n"
     ]
    }
   ],
   "source": [
    "a = float(input(\"Hvilket tall vil du ta rota av? \"))\n",
    "startGjett = float(input(\"Hva gjeter du? \"))\n",
    "x = startGjett\n",
    "\n",
    "def f(a,x):\n",
    "    return (1/2)*(x+(a/x))\n",
    "\n",
    "for n in range(6):\n",
    "    gjett = f(a,x)\n",
    "    x = gjett\n",
    "\n",
    "print(gjett)"
   ]
  },
  {
   "cell_type": "markdown",
   "metadata": {},
   "source": [
    "## Halvveringsmetoden"
   ]
  },
  {
   "cell_type": "code",
   "execution_count": 31,
   "metadata": {},
   "outputs": [
    {
     "name": "stdout",
     "output_type": "stream",
     "text": [
      "-2.750000000014552\n",
      "37\n"
     ]
    }
   ],
   "source": [
    "def f(x):\n",
    "    return 4*x + 11\n",
    "\n",
    "løkkegang = 0\n",
    "a = -10\n",
    "b = 10\n",
    "m = (a+b)/2\n",
    "tol = 1E-10\n",
    "    \n",
    "\n",
    "while abs(f(m)) > tol:\n",
    "    if f(a)*f(m) < 0:\n",
    "        b = m\n",
    "    if f(b)*f(m) < 0:\n",
    "        a = m\n",
    "    m = (a+b)/2\n",
    "    løkkegang += 1\n",
    "print(m)\n",
    "print(løkkegang)"
   ]
  },
  {
   "cell_type": "code",
   "execution_count": null,
   "metadata": {},
   "outputs": [],
   "source": [
    "def f(x):\n",
    "    return x**2\n",
    "\n",
    "tol = 1E-10\n",
    "    \n",
    "def halverings(a,b,f,tol=1E-10):\n",
    "    m = (a+b)/2\n",
    "    løkkegang = 0\n",
    "    while abs(f(m)) > tol:\n",
    "        if f(a)*f(m) < 0:\n",
    "            b = m\n",
    "        if f(b)*f(m) < 0:\n",
    "            a = m\n",
    "        m = (a+b)/2\n",
    "        løkkegang += 1\n",
    "    return m, løkkegang\n",
    "\n",
    "\n",
    "nullpunkt, antall = halverings(-5,10,f)\n",
    "print(\"Nullpunktet var\", nullpunkt, \"og løkka kjørte\", antall, \"ganger.\")"
   ]
  },
  {
   "cell_type": "markdown",
   "metadata": {},
   "source": [
    "## Newtons metode \n",
    "\n",
    "Ulemper: \n",
    "- Du trenger den deriverte av funksjonen.\n",
    "- Den deriverte kan bli null, og det går ike"
   ]
  },
  {
   "cell_type": "code",
   "execution_count": null,
   "metadata": {},
   "outputs": [],
   "source": [
    "def f(x):\n",
    "    return 2*x - 4\n",
    "def g(x):\n",
    "    return 2\n",
    "\n",
    "x = 5\n",
    "løkkegang = 0\n",
    "tol = 1E-5\n",
    "\n",
    "while abs(f(x)) > tol:\n",
    "    x = x - f(x)/g(x)\n",
    "    løkkegang += 0\n",
    "\n",
    "print(x)"
   ]
  },
  {
   "cell_type": "markdown",
   "metadata": {},
   "source": [
    "## Eratosthenes sil"
   ]
  },
  {
   "cell_type": "code",
   "execution_count": 23,
   "metadata": {},
   "outputs": [
    {
     "name": "stdout",
     "output_type": "stream",
     "text": [
      "[2, 3, 5, 7, 11, 13, 17, 19, 23, 29, 31, 37, 41, 43, 47, 53, 59, 61, 67, 71, 73, 79, 83, 89, 97]\n"
     ]
    }
   ],
   "source": [
    "tall = []\n",
    "for i in range(2,101):\n",
    "    tall.append(i)\n",
    "\n",
    "\n",
    "for n in range(0,20):\n",
    "    p = tall[n]\n",
    "    s = p**2\n",
    "    while s < 101:\n",
    "        if s in tall:\n",
    "            tall.remove(s)\n",
    "        s += p\n",
    "        \n",
    "       \n",
    "print(tall)"
   ]
  },
  {
   "cell_type": "markdown",
   "metadata": {},
   "source": [
    "## Skyte spurv med kanon\n",
    "### Teori"
   ]
  },
  {
   "cell_type": "code",
   "execution_count": 3,
   "metadata": {},
   "outputs": [
    {
     "name": "stdout",
     "output_type": "stream",
     "text": [
      "Kula vil treffe bakken etter 0.980290799648984 sekunder.\n",
      "Etter 0.980290799648984 sekunder har kula bevegd seg 4.7135578493727435 meter.\n"
     ]
    },
    {
     "data": {
      "text/plain": [
       "'\\nfor i in range(3,7):\\n    a = pi/i\\n    print(\"Vinkel: pi/\",i,\"Tid:\",t,\"Strekning:\",strekning(t))\\n'"
      ]
     },
     "execution_count": 3,
     "metadata": {},
     "output_type": "execute_result"
    }
   ],
   "source": [
    "from math import*\n",
    "\n",
    "v0 = 6.8     #fart i m/s\n",
    "a = pi/4     #vinkel i radianer\n",
    "g = 9.81     #tyngdeakselerasjon i m/s^2\n",
    "tol = 1E-5\n",
    "t = 8     #gjett på hvor lang tid det tar\n",
    "\n",
    "def høyde(t):     #funksjon for høyden kuler har etter t sekunder\n",
    "    \"\"\"\n",
    "    t: tid i sekunder\n",
    "    \"\"\"\n",
    "    return v0*sin(a)*t-(1/2)*g*t**2 \n",
    "\n",
    "def høydeder(x):     #derivert funksjon av høyde(t)\n",
    "    \"\"\"\n",
    "    t: tid i sekunder\n",
    "    \"\"\"\n",
    "    return v0*sin(a)-g*t\n",
    "    \n",
    "while abs(høyde(t)) > tol:\n",
    "    t = t - høyde(t)/høydeder(t)\n",
    "\n",
    "print(\"Kula vil treffe bakken etter\",t,\"sekunder.\")\n",
    "\n",
    "def strekning(t):     #funksjon for strekningen kula har gått etter t sekunder\n",
    "    return v0*cos(a)*t\n",
    "\n",
    "print(\"Etter\",t,\"sekunder har kula bevegd seg\",strekning(t),\"meter.\")\n",
    "\n",
    "\"\"\"\n",
    "for i in range(3,7):\n",
    "    a = pi/i\n",
    "    print(\"Vinkel: pi/\",i,\"Tid:\",t,\"Strekning:\",strekning(t))\n",
    "\"\"\""
   ]
  },
  {
   "cell_type": "markdown",
   "metadata": {},
   "source": [
    "### Eksperiment\n",
    "\n",
    "    Vinkel på skyterampe: 45°\n",
    "    Lengde på skuddet: (380 + 380 + 380 + 380 + 360)/5 = 376cm\n",
    "    Startfart: 6,8m/s\n",
    "\n",
    "#### Feilkilder:\n",
    "* Målingen av lengden er ikke veldig nøyaktig fordi det er øyet som ser hvor lang den går\n",
    "* Kula blir ikke skutt ut på samme høyde som den lander, derfor vil den gå lenger i ekspirimentet enn i teorien\n",
    "* Det kan hende rampa ikke er nøyaktig 45°"
   ]
  },
  {
   "cell_type": "code",
   "execution_count": null,
   "metadata": {},
   "outputs": [],
   "source": []
  },
  {
   "cell_type": "code",
   "execution_count": null,
   "metadata": {},
   "outputs": [],
   "source": []
  }
 ],
 "metadata": {
  "kernelspec": {
   "display_name": "Python 3",
   "language": "python",
   "name": "python3"
  },
  "language_info": {
   "codemirror_mode": {
    "name": "ipython",
    "version": 3
   },
   "file_extension": ".py",
   "mimetype": "text/x-python",
   "name": "python",
   "nbconvert_exporter": "python",
   "pygments_lexer": "ipython3",
   "version": "3.7.3"
  }
 },
 "nbformat": 4,
 "nbformat_minor": 2
}
