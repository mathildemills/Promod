{
 "cells": [
  {
   "cell_type": "markdown",
   "metadata": {},
   "source": [
    "# Objektorientering\n",
    "## Grunnstoffer og bindingstyper\n",
    "\n"
   ]
  },
  {
   "cell_type": "code",
   "execution_count": 12,
   "metadata": {},
   "outputs": [
    {
     "name": "stdout",
     "output_type": "stream",
     "text": [
      "Bindingstypen til LiF er Ionisk\n",
      "Bindingstypen til BrCl er Upolar kovalent\n",
      "Bindingstypen til K_2O er Ionisk\n",
      "Bindingstypen til CH_4 er Mellom polar og upolar kovalent\n"
     ]
    }
   ],
   "source": [
    "from pylab import*\n",
    "\n",
    "class Grunnstoff:\n",
    "    def __init__(self, a_num, sym, navn, masse, el_neg):\n",
    "        self.a_num = a_num\n",
    "        self.sym = sym\n",
    "        self.navn = navn\n",
    "        self.masse = masse\n",
    "        self.el_neg = el_neg\n",
    "    \n",
    "def bindingstype(grunnstoff1, grunnstoff2):\n",
    "    delta = abs(grunnstoff1.el_neg - grunnstoff2.el_neg)\n",
    "    type_binding = \"\"\n",
    "    \n",
    "    if delta >= 2.0:\n",
    "        type_binding = \"Ionisk\"\n",
    "    elif delta < 2.0 and delta > 1.6:\n",
    "        type_binding = \"Mellom ionisk og polar kovalent\"\n",
    "    elif delta <= 1.6 and delta >= 0.5:\n",
    "        type_binding = \"Polar kovalent\"\n",
    "    elif delta < 0.5 and delta > 0.3:\n",
    "        type_binding = \"Mellom polar og upolar kovalent\"\n",
    "    elif delta <= 0.3:\n",
    "        type_binding = \"Upolar kovalent\"\n",
    "    \n",
    "    return type_binding\n",
    "\n",
    "\n",
    "Karbon = Grunnstoff(6, \"C\" ,\"Karbon\", 12.01, 2.55)\n",
    "Litium = Grunnstoff(3, \"Li\", \"Litium\", 6.941, 0.98)\n",
    "Fluor = Grunnstoff(9, \"F\", \"Fluor\", 19.00, 3.98)\n",
    "Brom = Grunnstoff(35, \"Br\", \"Brom\", 79.90, 2.96)\n",
    "Klor = Grunnstoff(17, \"Cl\", \"Klor\", 35.45, 3.16)\n",
    "Kalium = Grunnstoff(19, \"K\", \"Kalium\", 39.10, 0.82)\n",
    "Oksygen = Grunnstoff(8, \"O\", \"Oksygen\", 16.00, 3.44)\n",
    "Hydrogen = Grunnstoff(1, \"H\", \"Hydrogen\", 1.008, 2.2)\n",
    "\n",
    "LiF = bindingstype(Litium, Fluor)\n",
    "BrCl = bindingstype(Brom, Klor)\n",
    "K_2O = bindingstype(Kalium, Oksygen)\n",
    "CH_4 = bindingstype(Karbon, Hydrogen)\n",
    "\n",
    "print(\"Bindingstypen til LiF er\", LiF)\n",
    "print(\"Bindingstypen til BrCl er\", BrCl)\n",
    "print(\"Bindingstypen til K_2O er\", K_2O)\n",
    "print(\"Bindingstypen til CH_4 er\", CH_4)"
   ]
  },
  {
   "cell_type": "code",
   "execution_count": null,
   "metadata": {},
   "outputs": [],
   "source": []
  }
 ],
 "metadata": {
  "kernelspec": {
   "display_name": "Python 3",
   "language": "python",
   "name": "python3"
  },
  "language_info": {
   "codemirror_mode": {
    "name": "ipython",
    "version": 3
   },
   "file_extension": ".py",
   "mimetype": "text/x-python",
   "name": "python",
   "nbconvert_exporter": "python",
   "pygments_lexer": "ipython3",
   "version": "3.7.4"
  }
 },
 "nbformat": 4,
 "nbformat_minor": 2
}
